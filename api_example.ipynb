{
 "cells": [
  {
   "cell_type": "markdown",
   "metadata": {},
   "source": [
    "## Usage example of EiopaDB\n",
    "\n",
    "First generate a fresh database built using latest source code:"
   ]
  },
  {
   "cell_type": "code",
   "execution_count": null,
   "metadata": {},
   "outputs": [],
   "source": [
    "import logging\n",
    "import sys\n",
    "logging.basicConfig(format='%(asctime)s | %(levelname)s : %(message)s',\n",
    "                    level=logging.INFO, stream=sys.stdout)"
   ]
  },
  {
   "cell_type": "code",
   "execution_count": null,
   "metadata": {},
   "outputs": [],
   "source": [
    "# Check your environment\n",
    "sys.path"
   ]
  },
  {
   "cell_type": "code",
   "execution_count": null,
   "metadata": {},
   "outputs": [],
   "source": [
    "from solvency2_data.eiopa_data import get_workspace\n",
    "from solvency2_data.sqlite_handler import EiopaDB\n",
    "database = get_workspace()['database']\n",
    "db = EiopaDB(database)"
   ]
  },
  {
   "cell_type": "code",
   "execution_count": null,
   "metadata": {},
   "outputs": [],
   "source": [
    "# Hard reset of DB - deletes the file and all stored data and rebuilds empty DB\n",
    "db.reset()"
   ]
  },
  {
   "cell_type": "markdown",
   "metadata": {},
   "source": [
    "Now populate it for every month (until July 2021)"
   ]
  },
  {
   "cell_type": "code",
   "execution_count": null,
   "metadata": {},
   "outputs": [],
   "source": [
    "from solvency2_data.eiopa_data import full_rebuild\n",
    "full_rebuild()"
   ]
  },
  {
   "cell_type": "markdown",
   "metadata": {},
   "source": [
    "Now this can be indirectly queried using the API"
   ]
  },
  {
   "cell_type": "code",
   "execution_count": null,
   "metadata": {},
   "outputs": [],
   "source": [
    "import solvency2_data\n",
    "from datetime import date\n",
    "ref_date = date(2020,12,31)\n",
    "rfr = solvency2_data.get(ref_date)\n",
    "meta = solvency2_data.get(ref_date, 'meta')\n",
    "spr = solvency2_data.get(ref_date, 'spreads')\n",
    "gov = solvency2_data.get(ref_date, 'govies')\n",
    "\n",
    "rfr.head()"
   ]
  },
  {
   "cell_type": "markdown",
   "metadata": {},
   "source": [
    "Or directly queried"
   ]
  },
  {
   "cell_type": "code",
   "execution_count": null,
   "metadata": {},
   "outputs": [],
   "source": [
    "import pandas as pd\n",
    "sql = \"SELECT * FROM rfr\"\n",
    "df = pd.read_sql(sql, con=db.conn)\n",
    "df = df.loc[df.scenario=='base',['currency_code','ref_date', 'duration', 'spot']]\n",
    "df.head()"
   ]
  },
  {
   "cell_type": "code",
   "execution_count": null,
   "metadata": {},
   "outputs": [],
   "source": [
    "month_list = df.ref_date.drop_duplicates().to_list()\n",
    "month_list[:5]"
   ]
  },
  {
   "cell_type": "code",
   "execution_count": null,
   "metadata": {},
   "outputs": [],
   "source": [
    "df['ref_date'] = df.ref_date.apply(lambda x: month_list.index(x))\n",
    "df.head()"
   ]
  },
  {
   "cell_type": "code",
   "execution_count": null,
   "metadata": {},
   "outputs": [],
   "source": [
    "eurs = df.loc[df.currency_code=='EUR', ['ref_date', 'duration', 'spot']].set_index('ref_date')\n",
    "gbps = df.loc[df.currency_code=='GBP', ['ref_date', 'duration', 'spot']].set_index('ref_date')\n",
    "chfs = df.loc[df.currency_code=='CHF', ['ref_date', 'duration', 'spot']].set_index('ref_date')\n",
    "usds = df.loc[df.currency_code=='USD', ['ref_date', 'duration', 'spot']].set_index('ref_date')\n",
    "eurs.head()"
   ]
  },
  {
   "cell_type": "code",
   "execution_count": null,
   "metadata": {},
   "outputs": [],
   "source": [
    "list(eurs.loc[66, 'spot'].values)[:5]"
   ]
  },
  {
   "cell_type": "markdown",
   "metadata": {},
   "source": [
    "## Now have some fun :p"
   ]
  },
  {
   "cell_type": "code",
   "execution_count": null,
   "metadata": {},
   "outputs": [],
   "source": [
    "import numpy as np\n",
    "import matplotlib.pyplot as plt\n",
    "from matplotlib.animation import FuncAnimation\n",
    "import matplotlib.animation as animation\n",
    "import matplotlib.ticker as mtick\n",
    "from IPython.display import HTML\n",
    "\n",
    "# plt.style.use('ggplot')\n",
    "plt.xkcd()\n",
    "\n",
    "fig, ax = plt.subplots(figsize=(7, 4))\n",
    "ax.set(xlim=(0, 100), ylim=(-0.01, 0.04))\n",
    "\n",
    "date_text = ax.text(0.02, 0.9, '', transform=ax.transAxes)\n",
    "#plt.tight_layout()\n",
    "plt.gcf().subplots_adjust(bottom=0.15, left=0.15)\n",
    "plt.title('EIOPA Spots')\n",
    "\n",
    "x = list(range(1,151))\n",
    "#plt.xticks(ticks = x)\n",
    "plt.xlabel('duration (years)')\n",
    "plt.locator_params(axis='x', nbins=10)\n",
    "\n",
    "percentage = np.array(list(map(\"{:.1%}\".format, 0.005 * np.arange(-2, 10))))\n",
    "plt.yticks(ticks=0.005 * np.arange(-2, 10), labels=percentage)\n",
    "plt.ylabel('risk free spots')\n",
    "\n",
    "date_text.set_text(month_list[0])\n",
    "\n",
    "eur_start = ax.plot(x, eurs.loc[0,'spot'].values, color='b', ls='dashed', lw=2)[0]\n",
    "eur_line = ax.plot(x, eurs.loc[0,'spot'].values, color='b', lw=2)[0]\n",
    "\n",
    "gbp_start = ax.plot(x, gbps.loc[0, 'spot'].values, color='y', ls='dashed', lw=2)[0]\n",
    "gbp_line = ax.plot(x, gbps.loc[0, 'spot'].values, color='y', lw=2)[0]\n",
    "\n",
    "chf_start = ax.plot(x, chfs.loc[0, 'spot'].values, color='m', ls='dashed', lw=2)[0]\n",
    "chf_line = ax.plot(x, chfs.loc[0, 'spot'].values, color='m', lw=2)[0]\n",
    "\n",
    "ax.legend((eur_line, chf_line, gbp_line), ('eur', 'chf', 'gbp'), loc='lower right')\n",
    "def animate(i):\n",
    "    key = min(i, 66)\n",
    "    date_text.set_text(month_list[key])\n",
    "    eur_line.set_ydata(list(eurs.loc[key, 'spot'].values))\n",
    "    gbp_line.set_ydata(list(gbps.loc[key, 'spot'].values))\n",
    "    chf_line.set_ydata(list(chfs.loc[key, 'spot'].values))\n",
    "\n",
    "anim = FuncAnimation(\n",
    "    fig, animate, interval=100, frames=67 + 15)\n",
    "\n",
    "plt.draw()\n",
    "#plt.show()\n",
    "HTML(anim.to_html5_video())"
   ]
  },
  {
   "cell_type": "code",
   "execution_count": null,
   "metadata": {},
   "outputs": [],
   "source": []
  }
 ],
 "metadata": {
  "kernelspec": {
   "display_name": "Python 3",
   "language": "python",
   "name": "python3"
  },
  "language_info": {
   "codemirror_mode": {
    "name": "ipython",
    "version": 3
   },
   "file_extension": ".py",
   "mimetype": "text/x-python",
   "name": "python",
   "nbconvert_exporter": "python",
   "pygments_lexer": "ipython3",
   "version": "3.7.6"
  }
 },
 "nbformat": 4,
 "nbformat_minor": 4
}
